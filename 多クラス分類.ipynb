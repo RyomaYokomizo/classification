{
  "nbformat": 4,
  "nbformat_minor": 0,
  "metadata": {
    "colab": {
      "name": "多クラス分類.ipynb",
      "provenance": [],
      "collapsed_sections": [],
      "toc_visible": true
    },
    "kernelspec": {
      "name": "python3",
      "display_name": "Python 3"
    }
  },
  "cells": [
    {
      "cell_type": "code",
      "metadata": {
        "id": "zIRsCKkO-MpC",
        "colab_type": "code",
        "colab": {}
      },
      "source": [
        "from google.colab import drive\n",
        "drive.mount('/content/drive')"
      ],
      "execution_count": 0,
      "outputs": []
    },
    {
      "cell_type": "code",
      "metadata": {
        "id": "33iIg7Ac-dHK",
        "colab_type": "code",
        "colab": {}
      },
      "source": [
        "%cd drive/My Drive"
      ],
      "execution_count": 0,
      "outputs": []
    },
    {
      "cell_type": "code",
      "metadata": {
        "id": "OmSqV8ss-dEg",
        "colab_type": "code",
        "colab": {}
      },
      "source": [
        "! pip install pillow\n",
        "\n",
        "import numpy as np\n",
        "import matplotlib.pyplot as plt\n",
        "% matplotlib inline\n",
        "\n",
        "import random\n",
        "import os\n",
        "\n",
        "import cv2\n",
        "from PIL import Image\n",
        "\n",
        "import sys\n",
        "import shutil\n",
        "from pathlib import Path\n",
        "import os.path,sys"
      ],
      "execution_count": 0,
      "outputs": []
    },
    {
      "cell_type": "code",
      "metadata": {
        "id": "jA9HejMN-dCS",
        "colab_type": "code",
        "colab": {}
      },
      "source": [
        "import keras\n",
        "from keras.models import Sequential,Model\n",
        "from keras.layers import Dense, GlobalAveragePooling2D,Input\n",
        "from keras.applications.vgg16 import VGG16\n",
        "from keras.preprocessing.image import ImageDataGenerator\n",
        "from keras.layers import Input, Activation, Dropout, Flatten, Dense\n",
        "import keras.callbacks\n",
        "from keras import optimizers\n"
      ],
      "execution_count": 0,
      "outputs": []
    },
    {
      "cell_type": "markdown",
      "metadata": {
        "id": "V_Y9lLKzJtNY",
        "colab_type": "text"
      },
      "source": [
        "### 前処理"
      ]
    },
    {
      "cell_type": "code",
      "metadata": {
        "id": "3YMdW4BG-c9M",
        "colab_type": "code",
        "colab": {}
      },
      "source": [
        "p = Path('.')\n",
        "classes=['髙橋海人','岸優太','佐藤勝利','中島健斗','横尾渉','宮田俊哉','アンガールズ田中','アンガールズ山根']\n",
        "classes_num =len(classes)\n",
        "img_width,img_height=224,224"
      ],
      "execution_count": 0,
      "outputs": []
    },
    {
      "cell_type": "markdown",
      "metadata": {
        "id": "eFSvv7c5Jynf",
        "colab_type": "text"
      },
      "source": [
        "### データ分割"
      ]
    },
    {
      "cell_type": "code",
      "metadata": {
        "id": "5I7MLjg--c7A",
        "colab_type": "code",
        "colab": {}
      },
      "source": [
        "for word in classes:\n",
        "    # 元画像ディレクトリのパスオブジェクト\n",
        "    raw_dir = p  / word\n",
        "   \n",
        "    # 訓練データを格納するディレクトリ作成\n",
        "    train_set = p / 'train_set' / word\n",
        "    train_set.mkdir(parents=True, exist_ok=True)\n",
        "    \n",
        "    # テストデータを格納するディレクトリ作成\n",
        "    test_set = p / 'test_set' / word\n",
        "    test_set.mkdir(parents=True, exist_ok=True)\n",
        "    \n",
        "     # 各ブランドのの画像一覧取得\n",
        "     #iterdir()=ディレクトリ内のサブディレクトリorファイル一覧を取得\n",
        "    imgs_path = list(raw_dir.iterdir())\n",
        "    random.shuffle(imgs_path)\n",
        "    # 訓練データを格納\n",
        "    for img in imgs_path[:int(len(imgs_path)*0.3)]:\n",
        "        #　テスト画像をコピー\n",
        "        shutil.copy(str(img), str(test_set.resolve()))\n",
        "          #str(test_set.resolve())=test_setに岩橋玄樹∼髙橋海人までありますってこと\n",
        "     #訓練データを格納\n",
        "    for img in imgs_path[int(len(imgs_path)*0.3):]:\n",
        "        # 訓練画像をコピー\n",
        "        shutil.copy(str(img), str(train_set.resolve()))"
      ],
      "execution_count": 0,
      "outputs": []
    },
    {
      "cell_type": "code",
      "metadata": {
        "id": "pC6y2F1cDfhW",
        "colab_type": "code",
        "colab": {}
      },
      "source": [
        "#画像が分割できているか確認\n",
        "train_path = Path('./train_set')\n",
        "test_path = Path('./test_set')"
      ],
      "execution_count": 0,
      "outputs": []
    },
    {
      "cell_type": "code",
      "metadata": {
        "id": "yMnBIhpaKaht",
        "colab_type": "code",
        "colab": {}
      },
      "source": [
        "def image_check(check_path):\n",
        "  check_image = 0\n",
        "  for brand in check_path.iterdir():\n",
        "    for img in brand.iterdir():\n",
        "      check_image += 1\n",
        "  return check_image"
      ],
      "execution_count": 0,
      "outputs": []
    },
    {
      "cell_type": "code",
      "metadata": {
        "id": "8YjfP3AqK2T_",
        "colab_type": "code",
        "colab": {}
      },
      "source": [
        "train_imgs = image_check(train_path)\n",
        "test_imgs = image_check(test_path)\n",
        "print('train_image: ', rain_imgs)\n",
        "print('test_image: ', test_imgs)"
      ],
      "execution_count": 0,
      "outputs": []
    },
    {
      "cell_type": "code",
      "metadata": {
        "id": "bpcJ0sLd-c40",
        "colab_type": "code",
        "colab": {}
      },
      "source": [
        "\"\"\"\n",
        "train_imgs = 0\n",
        "test_imgs = 0\n",
        "#画像が分割できているか確認\n",
        "for tr_brand in train_path.iterdir():\n",
        "  for tr_img in tr_brand.iterdir():\n",
        "    train_imgs += 1\n",
        "\n",
        "for test_brand in test_path.iterdir():\n",
        "  for test_img in test_brand.iterdir():\n",
        "    test_imgs += 1\n",
        "\"\"\""
      ],
      "execution_count": 0,
      "outputs": []
    },
    {
      "cell_type": "markdown",
      "metadata": {
        "id": "GJepTrvcLmsT",
        "colab_type": "text"
      },
      "source": [
        "### データ加工"
      ]
    },
    {
      "cell_type": "code",
      "metadata": {
        "id": "DISWB8oq-c0o",
        "colab_type": "code",
        "colab": {}
      },
      "source": [
        "batch = 112\n",
        "num_train = 448\n",
        "num_val = 192\n",
        "nb_epoch=50"
      ],
      "execution_count": 0,
      "outputs": []
    },
    {
      "cell_type": "code",
      "metadata": {
        "id": "iNUZzsLr-cyd",
        "colab_type": "code",
        "colab": {}
      },
      "source": [
        "train_datagen = ImageDataGenerator(\n",
        "    width_shift_range=0.2,\n",
        "    height_shift_range=0.2,\n",
        "    #shear_range=0.1,\n",
        "    zoom_range=0.2,\n",
        "    horizontal_flip=True,\n",
        "    #vertical_flip=True,\n",
        "    rescale=1.0 / 255\n",
        ")\n",
        "\n",
        "test_datagen = ImageDataGenerator(\n",
        "    rescale=1.0 / 255\n",
        ")"
      ],
      "execution_count": 0,
      "outputs": []
    },
    {
      "cell_type": "code",
      "metadata": {
        "id": "-PgVqjXS-cwH",
        "colab_type": "code",
        "colab": {}
      },
      "source": [
        "train_generator = train_datagen.flow_from_directory(\n",
        "    'train_set',\n",
        "    target_size=(img_width,img_height ),\n",
        "    color_mode='rgb',\n",
        "    classes=classes,\n",
        "    class_mode='categorical',\n",
        "    batch_size=batch,\n",
        "    shuffle=True\n",
        ")\n",
        "\n",
        "validation_generator = test_datagen.flow_from_directory(\n",
        "   'test_set',\n",
        "   target_size=(img_width, img_height),\n",
        "   color_mode='rgb',\n",
        "   classes=classes,\n",
        "   class_mode='categorical',\n",
        "   batch_size=batch,\n",
        "   shuffle=True\n",
        ")"
      ],
      "execution_count": 0,
      "outputs": []
    },
    {
      "cell_type": "markdown",
      "metadata": {
        "id": "WEmtk0w7Lvsg",
        "colab_type": "text"
      },
      "source": [
        "## モデル構築\n"
      ]
    },
    {
      "cell_type": "markdown",
      "metadata": {
        "id": "9FIchWO0L-qE",
        "colab_type": "text"
      },
      "source": [
        "### ファインチューニング"
      ]
    },
    {
      "cell_type": "code",
      "metadata": {
        "id": "uEeL6Zm5-cqO",
        "colab_type": "code",
        "colab": {}
      },
      "source": [
        "keras.applications.vgg16.VGG16(include_top=True, weights='imagenet', input_tensor=None, input_shape=None, pooling=None, classes=1000)\n"
      ],
      "execution_count": 0,
      "outputs": []
    },
    {
      "cell_type": "markdown",
      "metadata": {
        "id": "Rerjqn5EL10O",
        "colab_type": "text"
      },
      "source": [
        "## モデル構築"
      ]
    },
    {
      "cell_type": "code",
      "metadata": {
        "id": "L_EcFSoz-coO",
        "colab_type": "code",
        "colab": {}
      },
      "source": [
        "# VGG16のロード。FC層は不要なので include_top=False\n",
        "input_tensor = Input(shape=(img_width, img_height, 3))\n",
        "vgg16 = VGG16(include_top=False, weights='imagenet', input_tensor=input_tensor)\n",
        "\n",
        "# VGG16の図の緑色の部分（FC層）の作成\n",
        "top_model = Sequential()\n",
        "top_model.add(Flatten(input_shape=vgg16.output_shape[1:]))\n",
        "top_model.add(Dense(256, activation='relu'))\n",
        "top_model.add(Dropout(0.5))\n",
        "top_model.add(Dense(classes_num, activation='softmax'))\n",
        "\n",
        "# VGG16とFC層を結合してモデルを作成（完成図が上の図）\n",
        "vgg_model = Model(input=vgg16.input, output=top_model(vgg16.output))\n",
        "\n",
        "# VGG16の図の青色の部分は重みを固定（frozen）\n",
        "for layer in vgg_model.layers[:15]:\n",
        "    layer.trainable = False\n",
        "\n",
        "# 多クラス分類を指定\n",
        "vgg_model.compile(loss='categorical_crossentropy',\n",
        "          optimizer=optimizers.SGD(lr=0.001,momentum=0.9),\n",
        "          metrics=['accuracy'])"
      ],
      "execution_count": 0,
      "outputs": []
    },
    {
      "cell_type": "markdown",
      "metadata": {
        "id": "iPe2gx9bMFWB",
        "colab_type": "text"
      },
      "source": [
        "### 学習"
      ]
    },
    {
      "cell_type": "code",
      "metadata": {
        "id": "F9Dnoq9Z-cmo",
        "colab_type": "code",
        "colab": {}
      },
      "source": [
        "hist =vgg_model.fit_generator(\n",
        "    train_generator,\n",
        "    samples_per_epoch=num_train,\n",
        "    epochs=nb_epoch,\n",
        "    #verbose=1,\n",
        "    validation_data=validation_generator,\n",
        "    nb_val_samples=num_val)"
      ],
      "execution_count": 0,
      "outputs": []
    },
    {
      "cell_type": "markdown",
      "metadata": {
        "id": "P8rIi42XMIMX",
        "colab_type": "text"
      },
      "source": [
        "## 評価"
      ]
    },
    {
      "cell_type": "markdown",
      "metadata": {
        "id": "4pdh8rdgMKPT",
        "colab_type": "text"
      },
      "source": [
        "### 損失関数評価"
      ]
    },
    {
      "cell_type": "code",
      "metadata": {
        "id": "GAoT7gazFzk9",
        "colab_type": "code",
        "colab": {}
      },
      "source": [
        "train_loss = hist.history['loss']\n",
        "val_loss = hist.history['val_loss']\n",
        "import matplotlib.pyplot as plt\n",
        "plt.plot(train_loss, label='train')\n",
        "plt.plot(val_loss, label='val')\n",
        "plt.legend()"
      ],
      "execution_count": 0,
      "outputs": []
    },
    {
      "cell_type": "markdown",
      "metadata": {
        "id": "HbE6ooN6MQJq",
        "colab_type": "text"
      },
      "source": [
        "### 正解率"
      ]
    },
    {
      "cell_type": "code",
      "metadata": {
        "id": "D9Pn5HLsF0f0",
        "colab_type": "code",
        "colab": {}
      },
      "source": [
        "train_acc = hist.history['acc']\n",
        "val_acc = hist.history['val_acc']\n",
        "import matplotlib.pyplot as plt\n",
        "plt.plot(train_acc, label='train')\n",
        "plt.plot(val_acc, label='val')\n",
        "plt.legend()"
      ],
      "execution_count": 0,
      "outputs": []
    },
    {
      "cell_type": "markdown",
      "metadata": {
        "id": "nlAlpG-sMmDM",
        "colab_type": "text"
      },
      "source": [
        "## 応用(学習が途中で終わったりしたらこれを実行)"
      ]
    },
    {
      "cell_type": "code",
      "metadata": {
        "id": "sNLflQ3Z-cj0",
        "colab_type": "code",
        "colab": {}
      },
      "source": [
        "#resultsディレクトリを作成\n",
        "result_dir = 'results'\n",
        "if not os.path.exists(result_dir):\n",
        "    os.mkdir(result_dir)\n",
        "\n",
        "# 重みを保存\n",
        "vgg_model.save_weights(os.path.join(result_dir, 'Final.h5'))\n",
        "# 作成したモデルを保存\n",
        "vgg_model.save('VGGtake1.h5')"
      ],
      "execution_count": 0,
      "outputs": []
    },
    {
      "cell_type": "code",
      "metadata": {
        "id": "bdfrEtS_-chX",
        "colab_type": "code",
        "colab": {}
      },
      "source": [
        "# VGG16のロード。FC層は不要なので include_top=False\n",
        "input_tensor = Input(shape=(img_width, img_height, 3))\n",
        "vgg16 = VGG16(include_top=False, weights='imagenet', input_tensor=input_tensor)\n",
        "\n",
        "# VGG16の図の緑色の部分（FC層）の作成\n",
        "top_model = Sequential()\n",
        "top_model.add(Flatten(input_shape=vgg16.output_shape[1:]))\n",
        "top_model.add(Dense(256, activation='relu'))\n",
        "top_model.add(Dropout(0.5))\n",
        "top_model.add(Dense(classes_num, activation='softmax'))\n",
        "\n",
        "# VGG16とFC層を結合してモデルを作成（完成図が上の図）\n",
        "vgg_model = Model(input=vgg16.input, output=top_model(vgg16.output))\n",
        "\n",
        "# VGG16の図の青色の部分は重みを固定（frozen）\n",
        "for layer in vgg_model.layers[:15]:\n",
        "    layer.trainable = False\n",
        "\n",
        "# 多クラス分類を指定\n",
        "vgg_model.compile(loss='categorical_crossentropy',\n",
        "          optimizer=optimizers.SGD(lr=0.005,momentum=0.5),\n",
        "          metrics=['accuracy'])\n",
        "\n",
        "vgg_model = Model(input=vgg16.input, output=top_model(vgg16.output))\n",
        "\n",
        "from keras.models import load_model\n",
        "vgg_model.load_weights('./results/Final.h5')"
      ],
      "execution_count": 0,
      "outputs": []
    },
    {
      "cell_type": "code",
      "metadata": {
        "id": "TqyGbrwT-ceu",
        "colab_type": "code",
        "colab": {}
      },
      "source": [
        "vgg_model.load('VGGtake1.h5')"
      ],
      "execution_count": 0,
      "outputs": []
    },
    {
      "cell_type": "markdown",
      "metadata": {
        "id": "wHAdOkVsHCpe",
        "colab_type": "text"
      },
      "source": [
        "## 予測"
      ]
    },
    {
      "cell_type": "code",
      "metadata": {
        "id": "7sIhVXXW-cad",
        "colab_type": "code",
        "colab": {}
      },
      "source": [
        "# テスト用のコード\n",
        "from keras.preprocessing import image\n",
        "\n",
        "# 画像を読み込んで予測する\n",
        "def img_predict(filename):\n",
        "    # 画像を読み込んで4次元テンソルへ変換\n",
        "    img = image.load_img(filename, target_size=(img_height, img_width))\n",
        "    x = image.img_to_array(img)\n",
        "    x = np.expand_dims(x, axis=0)\n",
        "    # 学習時にImageDataGeneratorのrescaleで正規化したので同じ処理が必要\n",
        "    # これを忘れると結果がおかしくなるので注意\n",
        "    x = x / 255.0   \n",
        "    #表示\n",
        "    plt.imshow(img)\n",
        "    plt.show()\n",
        "    # 指数表記を禁止にする\n",
        "    np.set_printoptions(suppress=True)\n",
        "\n",
        "    #画像の人物を予測    \n",
        "    pred = vgg_model.predict(x)[0]\n",
        "    #結果を表示する\n",
        "    print(\"髙橋海人':0,'岸優太':1,'佐藤勝利':2,'中島健斗':3,'横尾渉':4,'宮田俊哉':5,'アンガールズ田中':6,'アンガールズ山根':7\")\n",
        "    print( pred*100)"
      ],
      "execution_count": 0,
      "outputs": []
    },
    {
      "cell_type": "code",
      "metadata": {
        "id": "l6iVMbn9HFDo",
        "colab_type": "code",
        "colab": {}
      },
      "source": [
        "test_name = 'IMG_5755.JPG'\n",
        "img_predict(test_name)"
      ],
      "execution_count": 0,
      "outputs": []
    },
    {
      "cell_type": "code",
      "metadata": {
        "id": "UfthfrCXIep3",
        "colab_type": "code",
        "colab": {}
      },
      "source": [
        ""
      ],
      "execution_count": 0,
      "outputs": []
    }
  ]
}